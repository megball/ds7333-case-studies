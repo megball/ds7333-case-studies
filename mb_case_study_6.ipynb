{
  "nbformat": 4,
  "nbformat_minor": 0,
  "metadata": {
    "colab": {
      "name": "mb_case_study_6.ipynb",
      "provenance": [],
      "authorship_tag": "ABX9TyNwiJ9hQY4EXgZ5TQxHU3GT",
      "include_colab_link": true
    },
    "kernelspec": {
      "name": "python3",
      "display_name": "Python 3"
    },
    "language_info": {
      "name": "python"
    }
  },
  "cells": [
    {
      "cell_type": "markdown",
      "metadata": {
        "id": "view-in-github",
        "colab_type": "text"
      },
      "source": [
        "<a href=\"https://colab.research.google.com/github/megball/ds7333-case-studies/blob/main/mb_case_study_6.ipynb\" target=\"_parent\"><img src=\"https://colab.research.google.com/assets/colab-badge.svg\" alt=\"Open In Colab\"/></a>"
      ]
    },
    {
      "cell_type": "markdown",
      "source": [
        "# Case Study 6\n",
        "### Megan Ball\n",
        "### DS73333 QTW "
      ],
      "metadata": {
        "id": "m8S_CWZiAMPU"
      }
    },
    {
      "cell_type": "code",
      "execution_count": null,
      "metadata": {
        "id": "PmLy2vX8_-vP"
      },
      "outputs": [],
      "source": [
        ""
      ]
    }
  ]
}